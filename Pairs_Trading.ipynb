{
 "cells": [
  {
   "cell_type": "code",
   "execution_count": 1,
   "id": "f3240bb3",
   "metadata": {},
   "outputs": [
    {
     "name": "stderr",
     "output_type": "stream",
     "text": [
      "C:\\Users\\shraj\\anaconda3\\lib\\site-packages\\statsmodels\\tsa\\base\\tsa_model.py:7: FutureWarning: pandas.Int64Index is deprecated and will be removed from pandas in a future version. Use pandas.Index with the appropriate dtype instead.\n",
      "  from pandas import (to_datetime, Int64Index, DatetimeIndex, Period,\n",
      "C:\\Users\\shraj\\anaconda3\\lib\\site-packages\\statsmodels\\tsa\\base\\tsa_model.py:7: FutureWarning: pandas.Float64Index is deprecated and will be removed from pandas in a future version. Use pandas.Index with the appropriate dtype instead.\n",
      "  from pandas import (to_datetime, Int64Index, DatetimeIndex, Period,\n"
     ]
    }
   ],
   "source": [
    "import os\n",
    "import requests\n",
    "import itertools\n",
    "\n",
    "import numpy as np\n",
    "import pandas as pd\n",
    "import yfinance as yf\n",
    "import matplotlib.pyplot as plt\n",
    "from statsmodels.tsa.stattools import coint"
   ]
  },
  {
   "cell_type": "markdown",
   "id": "426e468c",
   "metadata": {},
   "source": [
    "# Dataset"
   ]
  },
  {
   "cell_type": "code",
   "execution_count": 2,
   "id": "1f94aed3",
   "metadata": {},
   "outputs": [],
   "source": [
    "# Get the list of S&P 500 stocks\n",
    "url = 'https://en.wikipedia.org/wiki/List_of_S%26P_500_companies'\n",
    "\n",
    "response = requests.get(url)\n",
    "html = response.content\n",
    "\n",
    "df = pd.read_html(html, header=0)[0]\n",
    "tickers = df.Symbol.to_list()"
   ]
  },
  {
   "cell_type": "code",
   "execution_count": 3,
   "id": "a21cac23",
   "metadata": {},
   "outputs": [],
   "source": [
    "# Load the data from yahoo\n",
    "def load_data(symbol):\n",
    "    \n",
    "    direc = 'data/'\n",
    "    os.makedirs(direc, exist_ok=True)\n",
    "    \n",
    "    filename = os.path.join(direc, symbol + '.csv')\n",
    "    if not os.path.exists(filename):\n",
    "        \n",
    "        ticker = yf.Ticker(symbol)\n",
    "        df = ticker.history(start='2005-01-01', end='2023-12-31')\n",
    "        df.to_csv(filename)\n",
    "        \n",
    "    df = pd.read_csv(filename, index_col=0)\n",
    "    df.index = pd.to_datetime(df.index, utc=True).tz_convert('US/Eastern')\n",
    "    df['date'] = df.index\n",
    "    \n",
    "    if len(df) == 0:\n",
    "        os.remove(filename)\n",
    "        return None\n",
    "    \n",
    "    return df"
   ]
  },
  {
   "cell_type": "code",
   "execution_count": 4,
   "id": "183bd740",
   "metadata": {},
   "outputs": [
    {
     "name": "stderr",
     "output_type": "stream",
     "text": [
      "$BRK.B: possibly delisted; No timezone found\n",
      "$BF.B: possibly delisted; No price data found  (1d 2005-01-01 -> 2023-12-31)\n"
     ]
    },
    {
     "name": "stdout",
     "output_type": "stream",
     "text": [
      "$BF.B: possibly delisted; No price data found  (1d 2005-01-01 -> 2023-12-31)\n"
     ]
    },
    {
     "name": "stderr",
     "output_type": "stream",
     "text": [
      "GEV: Data doesn't exist for startDate = 1104555600, endDate = 1703998800\n",
      "SW: Data doesn't exist for startDate = 1104555600, endDate = 1703998800\n",
      "SOLV: Data doesn't exist for startDate = 1104555600, endDate = 1703998800\n"
     ]
    }
   ],
   "source": [
    "holder = []\n",
    "ticker_data = []\n",
    "\n",
    "for symbol in tickers:\n",
    "    df = load_data(symbol)\n",
    "    \n",
    "    if df is not None:\n",
    "        holder.append(df)\n",
    "        ticker_data.append(symbol)\n",
    "        \n",
    "tickers = ticker_data[:]"
   ]
  },
  {
   "cell_type": "code",
   "execution_count": 9,
   "id": "c0db9d64",
   "metadata": {},
   "outputs": [
    {
     "data": {
      "text/plain": [
       "498"
      ]
     },
     "execution_count": 9,
     "metadata": {},
     "output_type": "execute_result"
    }
   ],
   "source": [
    "holder = [df[['Close','Open']] for df in holder] # keeping only open and close prices\n",
    "holder_norm = [] # dividing all prices by first value to normalize the data\n",
    "\n",
    "for i in range(len(holder)):\n",
    "    df = holder[i].copy()\n",
    "    normalizer = df['Close'].iloc[0]\n",
    "\n",
    "    df['Close'] /= normalizer\n",
    "    df['Open'] /= normalizer\n",
    "    holder_norm.append(df)\n",
    "    \n",
    "len(holder_norm)"
   ]
  },
  {
   "cell_type": "code",
   "execution_count": 11,
   "id": "6c5a68c8",
   "metadata": {},
   "outputs": [
    {
     "data": {
      "text/plain": [
       "394"
      ]
     },
     "execution_count": 11,
     "metadata": {},
     "output_type": "execute_result"
    }
   ],
   "source": [
    "# Keeping only stocks having data for entire period\n",
    "holder_norm = [df for df in holder_norm if len(df) == len(holder_norm[0])]\n",
    "tickers = [ticker for df, ticker in zip(holder_norm, tickers)]\n",
    "\n",
    "len(tickers)"
   ]
  },
  {
   "cell_type": "markdown",
   "id": "d14445eb",
   "metadata": {},
   "source": [
    "# Training and Testing Set"
   ]
  },
  {
   "cell_type": "code",
   "execution_count": 12,
   "id": "ef749d72",
   "metadata": {},
   "outputs": [],
   "source": [
    "data_train = [df[df.index.year <  2019] for df in holder_norm]\n",
    "data_test  = [df[df.index.year >= 2019] for df in holder_norm]"
   ]
  },
  {
   "cell_type": "markdown",
   "id": "13c2eca9",
   "metadata": {},
   "source": [
    "# Finding top 50 pairs of stocks"
   ]
  },
  {
   "cell_type": "code",
   "execution_count": 13,
   "id": "a47f315d",
   "metadata": {},
   "outputs": [],
   "source": [
    "# Dataframe to store the Euclidean distance between each pair of stocks\n",
    "dist_matrix = np.zeros((len(tickers), len(tickers)))"
   ]
  },
  {
   "cell_type": "code",
   "execution_count": 14,
   "id": "d2a9a86b",
   "metadata": {},
   "outputs": [
    {
     "name": "stdout",
     "output_type": "stream",
     "text": [
      " 394 / 394"
     ]
    }
   ],
   "source": [
    "for i, j in itertools.product(range(len(tickers)), repeat=2):\n",
    "    dist_matrix[i, j] = np.sqrt(np.sum((data_train[i]['Close'] - data_train[j]['Close']) ** 2))\n",
    "    \n",
    "    print(f'\\r {i+1} / {len(tickers)}', end='')"
   ]
  },
  {
   "cell_type": "code",
   "execution_count": 15,
   "id": "91eab6cf",
   "metadata": {},
   "outputs": [
    {
     "data": {
      "text/plain": [
       "array([[  0.        , 300.98616853,  19.32566846, ...,  88.36958249,\n",
       "         51.73648651,  56.54210621],\n",
       "       [300.98616853,   0.        , 299.46650798, ..., 227.99629334,\n",
       "        347.13582612, 356.27785633],\n",
       "       [ 19.32566846, 299.46650798,   0.        , ...,  81.61507638,\n",
       "         56.91702657,  63.01599074],\n",
       "       ...,\n",
       "       [ 88.36958249, 227.99629334,  81.61507638, ...,   0.        ,\n",
       "        135.80449674, 142.16080867],\n",
       "       [ 51.73648651, 347.13582612,  56.91702657, ..., 135.80449674,\n",
       "          0.        ,  23.51526672],\n",
       "       [ 56.54210621, 356.27785633,  63.01599074, ..., 142.16080867,\n",
       "         23.51526672,   0.        ]])"
      ]
     },
     "execution_count": 15,
     "metadata": {},
     "output_type": "execute_result"
    }
   ],
   "source": [
    "dist_matrix"
   ]
  },
  {
   "cell_type": "code",
   "execution_count": 16,
   "id": "cd55f95b",
   "metadata": {},
   "outputs": [
    {
     "data": {
      "text/plain": [
       "[('DTE', 'FICO', 4.256931778174897),\n",
       " ('ALLE', 'LNT', 4.652422387486137),\n",
       " ('AMCR', 'CTLT', 5.736525345717935),\n",
       " ('FICO', 'GD', 5.900060050993548),\n",
       " ('GD', 'META', 6.469400725892091),\n",
       " ('ATO', 'GD', 6.541571756109679),\n",
       " ('PH', 'QCOM', 7.05472813559794),\n",
       " ('MET', 'PGR', 7.158298171383426),\n",
       " ('ATO', 'META', 7.679269554531418),\n",
       " ('DTE', 'GD', 7.878656245221493),\n",
       " ('FICO', 'META', 8.287271662329355),\n",
       " ('GNRC', 'LULU', 8.296210524286952),\n",
       " ('ALGN', 'DOW', 8.759026013595282),\n",
       " ('ED', 'HRL', 9.231332191687482),\n",
       " ('DTE', 'META', 9.26011002246846),\n",
       " ('FICO', 'MMC', 9.297458728523672),\n",
       " ('STZ', 'RL', 9.43973716426273),\n",
       " ('GE', 'HAL', 9.440700256934937),\n",
       " ('DOW', 'HES', 9.557376629274152),\n",
       " ('FI', 'PH', 9.750368735152062),\n",
       " ('CMCSA', 'CEG', 9.86147512416826),\n",
       " ('ATO', 'FICO', 9.917841008770946),\n",
       " ('HIG', 'LEN', 9.935461160706819),\n",
       " ('ORCL', 'QCOM', 9.976471319431893),\n",
       " ('BMY', 'ELV', 10.03621334635478),\n",
       " ('BKNG', 'BMY', 10.288299436896665),\n",
       " ('GOOG', 'NDSN', 10.291911024916878),\n",
       " ('DTE', 'MMC', 10.345989905537467),\n",
       " ('GOOG', 'HUM', 10.418972550385542),\n",
       " ('GOOG', 'CDNS', 10.429112308838008),\n",
       " ('CAT', 'LIN', 10.45382544769808),\n",
       " ('LEN', 'PKG', 10.471053540403258),\n",
       " ('DTE', 'GE', 10.703090836159296),\n",
       " ('ADSK', 'ORCL', 10.707599212479334),\n",
       " ('ALGN', 'GOOG', 10.708580723036977),\n",
       " ('PH', 'QRVO', 10.828337738091422),\n",
       " ('GEHC', 'NKE', 10.837182824710737),\n",
       " ('MMM', 'HD', 10.838745345153443),\n",
       " ('KMX', 'LW', 10.856303522014787),\n",
       " ('MMM', 'EQT', 10.880850191811417),\n",
       " ('HAL', 'MMC', 10.891687808747493),\n",
       " ('CPAY', 'HRL', 10.91695647347271),\n",
       " ('GEHC', 'LYV', 10.955799693941797),\n",
       " ('ALGN', 'HES', 11.034109506021013),\n",
       " ('CPAY', 'ELV', 11.074870720425311),\n",
       " ('KKR', 'PEG', 11.077435273296231),\n",
       " ('ATO', 'DTE', 11.13589725059204),\n",
       " ('BMY', 'HRL', 11.139862494118761),\n",
       " ('NI', 'PGR', 11.176154871378102),\n",
       " ('BA', 'GNRC', 11.183604514770083)]"
      ]
     },
     "execution_count": 16,
     "metadata": {},
     "output_type": "execute_result"
    }
   ],
   "source": [
    "top_pairs = []\n",
    "\n",
    "for i in range(len(tickers)):\n",
    "    for j in range(i+1, len(tickers)):\n",
    "        if i != j and dist_matrix[i,j] != 0:\n",
    "            top_pairs.append((tickers[i], tickers[j], dist_matrix[i,j]))\n",
    "            \n",
    "top_pairs = sorted(top_pairs, key=lambda x: x[2])[:50]\n",
    "top_pairs"
   ]
  },
  {
   "cell_type": "code",
   "execution_count": 19,
   "id": "1a508c5b",
   "metadata": {},
   "outputs": [
    {
     "data": {
      "image/png": "[encoded data removed]",
      "text/plain": [
       "<Figure size 720x360 with 1 Axes>"
      ]
     },
     "metadata": {
      "needs_background": "light"
     },
     "output_type": "display_data"
    }
   ],
   "source": [
    "# Plotting the top pair to see the price chart\n",
    "i, j, _ = top_pairs[0]\n",
    "i = tickers.index(i)\n",
    "j = tickers.index(j)\n",
    "\n",
    "plt.figure(figsize=(10,5))\n",
    "plt.plot(data_train[i]['Close'], label=tickers[i])\n",
    "plt.plot(data_train[j]['Close'], label=tickers[j])\n",
    "plt.legend()\n",
    "plt.show()"
   ]
  },
  {
   "cell_type": "markdown",
   "id": "d65d92a4",
   "metadata": {},
   "source": [
    "# Coding the logic for pairs trading strategy"
   ]
  },
  {
   "cell_type": "code",
   "execution_count": 20,
   "id": "a13d5d59",
   "metadata": {},
   "outputs": [],
   "source": [
    "# Calculating the spread for each pair of stocks\n",
    "spread_train = [data_train[tickers.index(i)]['Close'] - data_train[tickers.index(j)]['Close'] for i,j,_ in top_pairs]\n",
    "std_spread = [np.std(s) for s in spread_train]\n",
    "\n",
    "spread = [data_test[tickers.index(i)]['Close'] - data_test[tickers.index(j)]['Close'] for i,j,_ in top_pairs]"
   ]
  },
  {
   "cell_type": "code",
   "execution_count": 22,
   "id": "3914d4d2",
   "metadata": {},
   "outputs": [],
   "source": [
    "# Generating the signal for each pair based on standard deviation +/- 2 thresholds\n",
    "signals = [np.where(s > 2 * std, 1, np.where(s < -2 * std, -1, 0)) for s, std in zip(spread, std_spread)]"
   ]
  },
  {
   "cell_type": "code",
   "execution_count": 23,
   "id": "598e5617",
   "metadata": {},
   "outputs": [],
   "source": [
    "# Calculating the daily returns for each pair of stocks\n",
    "returns = []\n",
    "\n",
    "for i, j, _ in top_pairs:\n",
    "    signal = signals[top_pairs.index((i, j, _))]\n",
    "    i_index = tickers.index(i)\n",
    "    j_index = tickers.index(j)\n",
    "    returns.append([])\n",
    "    \n",
    "    for k in range(len(signal)):\n",
    "        return_ = 0\n",
    "        \n",
    "        # If the signal is 1 and the previous signal is not 1, then short the first stock and long the second stock\n",
    "        if signal[k] == 1 and (k == 0 or signal[k - 1] != 1):\n",
    "            \n",
    "            # Exit the position when the spread is less than or equal to 0\n",
    "            exit = k + np.argmax(spread[top_pairs.index((i, j, _))][k:] <= 0)\n",
    "            \n",
    "            # Handle the case when the exit is the last day of the data\n",
    "            if exit == len(spread[top_pairs.index((i, j, _))]) - 1:\n",
    "                return_ = (data_test[j_index]['Close'].iloc[-1] / data_test[j_index]['Open'].iloc[k+1] - 1) - (data_test[i_index]['Close'].iloc[-1] / data_test[i_index]['Open'].iloc[k+1] - 1)\n",
    "            else:\n",
    "                return_ = (data_test[j_index]['Close'].iloc[exit+1] / data_test[j_index]['Open'].iloc[k+1] - 1) - (data_test[i_index]['Close'].iloc[exit+1] / data_test[i_index]['Open'].iloc[k+1] - 1)\n",
    "            \n",
    "            return_ = float(return_)\n",
    "            \n",
    "        # If the signal is -1 and the previous signal is not -1, then long the first stock and short the second stock\n",
    "        elif signal[k] == -1 and (k == 0 or signal[k - 1] != -1):\n",
    "            \n",
    "            # Exit the position when the spread is greater than or equal to 0\n",
    "            exit = k + np.argmax(spread[top_pairs.index((i, j, _))][k:] >= 0)\n",
    "            \n",
    "            # Handle the case when the exit is the last day of the data\n",
    "            if exit == len(spread[top_pairs.index((i, j, _))]) - 1:\n",
    "                return_ = (data_test[i_index]['Close'].iloc[-1] / data_test[i_index]['Open'].iloc[k] - 1) - (data_test[j_index]['Close'].iloc[-1] / data_test[j_index]['Open'].iloc[k] - 1)\n",
    "            else:\n",
    "                return_ = (data_test[i_index]['Close'].iloc[exit+1] / data_test[i_index]['Open'].iloc[k+1] - 1) - (data_test[j_index]['Close'].iloc[exit+1] / data_test[j_index]['Open'].iloc[k+1] - 1)\n",
    "\n",
    "            return_ = float(return_)\n",
    "\n",
    "        returns[-1].append(return_)\n",
    "        \n",
    "# Calculating the cumulative return for each pair of stocks\n",
    "cumulative_returns = [np.cumsum(r) for r in returns]"
   ]
  },
  {
   "cell_type": "code",
   "execution_count": 25,
   "id": "19575f40",
   "metadata": {},
   "outputs": [
    {
     "data": {
      "text/plain": [
       "[('GOOG', 'NDSN', 2.705578329413756),\n",
       " ('CPAY', 'ELV', 2.6664013891111384),\n",
       " ('ALGN', 'GOOG', 2.6340556146485072),\n",
       " ('MET', 'PGR', 2.4143081754821782),\n",
       " ('GEHC', 'NKE', 2.194519535915568),\n",
       " ('GE', 'HAL', 2.1815520432032485),\n",
       " ('ADSK', 'ORCL', 2.031158291089858),\n",
       " ('PH', 'QCOM', 1.9882150736487396),\n",
       " ('KMX', 'LW', 1.9772353480729479),\n",
       " ('CAT', 'LIN', 1.9618253202499247),\n",
       " ('GOOG', 'HUM', 1.8993049478387993),\n",
       " ('LEN', 'PKG', 1.6928873492337513),\n",
       " ('NI', 'PGR', 1.6553565963635306),\n",
       " ('DOW', 'HES', 1.654034427913447),\n",
       " ('CMCSA', 'CEG', 1.6293604034765203),\n",
       " ('FICO', 'META', 1.6125733401813704),\n",
       " ('CPAY', 'HRL', 1.5866724276844033),\n",
       " ('ATO', 'META', 1.503698930226668),\n",
       " ('GOOG', 'CDNS', 1.5030116076018027),\n",
       " ('ED', 'HRL', 1.496974433373055),\n",
       " ('GD', 'META', 1.4557300667185686),\n",
       " ('DTE', 'MMC', 1.3854254320217616),\n",
       " ('PH', 'QRVO', 1.349007661479881),\n",
       " ('DTE', 'GE', 1.3144660440973435),\n",
       " ('KKR', 'PEG', 1.1917296821985315),\n",
       " ('BMY', 'ELV', 1.1663456925493578),\n",
       " ('FICO', 'GD', 1.1457382557262115),\n",
       " ('ALGN', 'DOW', 1.1031905260690396),\n",
       " ('HAL', 'MMC', 1.032424833293873),\n",
       " ('ATO', 'FICO', 1.002107350367349),\n",
       " ('BMY', 'HRL', 0.904625537528263),\n",
       " ('DTE', 'META', 0.8836445238252976),\n",
       " ('AMCR', 'CTLT', 0.8398076280211559),\n",
       " ('GEHC', 'LYV', 0.7012127771903128),\n",
       " ('ALLE', 'LNT', 0.5335526764556607),\n",
       " ('ATO', 'DTE', 0.4598797873079733),\n",
       " ('GNRC', 'LULU', 0.4477469452368979),\n",
       " ('MMM', 'EQT', 0.39433334994973507),\n",
       " ('FI', 'PH', 0.36284748374192627),\n",
       " ('DTE', 'FICO', 0.2622799621372314),\n",
       " ('BKNG', 'BMY', 0.21132205641194404),\n",
       " ('HIG', 'LEN', 0.17368730785291128),\n",
       " ('ATO', 'GD', 0.07796062984663384),\n",
       " ('ALGN', 'HES', -0.31024797214233246),\n",
       " ('DTE', 'GD', -0.4477469452368981),\n",
       " ('MMM', 'HD', -0.4595876800947913),\n",
       " ('STZ', 'RL', -0.5421391633846769),\n",
       " ('FICO', 'MMC', -0.5542166147740075),\n",
       " ('ORCL', 'QCOM', -0.9033452523274214)]"
      ]
     },
     "execution_count": 25,
     "metadata": {},
     "output_type": "execute_result"
    }
   ],
   "source": [
    "# Calculating the sharpe ratio for each pair of stocks\n",
    "sharpe_ratios = [np.mean(r) / np.std(r) * np.sqrt(252) for r in returns if np.std(r) != 0]\n",
    "sharpe_ratios_pairs = [(i, j, r) for (i, j, _), r in zip(top_pairs, sharpe_ratios)]\n",
    "\n",
    "sharpe_ratios_pairs = sorted(sharpe_ratios_pairs, key=lambda x: x[2], reverse=True)\n",
    "sharpe_ratios_pairs"
   ]
  },
  {
   "cell_type": "code",
   "execution_count": 33,
   "id": "648d9925",
   "metadata": {},
   "outputs": [
    {
     "data": {
      "image/png": "[encoded data removed]",
      "text/plain": [
       "<Figure size 720x360 with 1 Axes>"
      ]
     },
     "metadata": {
      "needs_background": "light"
     },
     "output_type": "display_data"
    },
    {
     "name": "stdout",
     "output_type": "stream",
     "text": [
      "Sharpe ratio of the equal weighted portfolio: 2.1541948838886547\n"
     ]
    }
   ],
   "source": [
    "# Calculating the sharpe ratio of a equal weighted portfolio\n",
    "cumulative_returns_portfolio = np.sum(cumulative_returns, axis=0) / 50\n",
    "sharpe_ratio_portfolio = np.mean(cumulative_returns_portfolio) / np.std(cumulative_returns_portfolio)\n",
    "\n",
    "plt.figure(figsize=(10, 5))\n",
    "plt.plot(cumulative_returns_portfolio)\n",
    "plt.title('Cumulative return of the equal weighted portfolio')\n",
    "plt.show()\n",
    "\n",
    "print(f'Sharpe ratio of the equal weighted portfolio: {sharpe_ratio_portfolio}')"
   ]
  },
  {
   "cell_type": "markdown",
   "id": "db7a867d",
   "metadata": {},
   "source": [
    "# Cointegration as an Alternate Approach"
   ]
  },
  {
   "cell_type": "code",
   "execution_count": 45,
   "id": "e99a1f26",
   "metadata": {},
   "outputs": [],
   "source": [
    "def find_cointegrated_pairs(data):\n",
    "    n = len(data)\n",
    "\n",
    "    score_matrix = np.zeros((n, n))\n",
    "    pvalue_matrix = np.ones((n, n))\n",
    "\n",
    "    keys = range(n)\n",
    "    pairs = list(itertools.combinations(keys, 2))\n",
    "\n",
    "    for i, j in pairs:\n",
    "        print(f'Finding cointegration for {tickers[i]} and {tickers[j]}')\n",
    "        try:\n",
    "            result = coint(data[i]['Close'], data[j]['Close'])\n",
    "        except:\n",
    "            print(f'Error in cointegration test for {tickers[i]} and {tickers[j]}')\n",
    "            continue\n",
    "        else:\n",
    "            score = result[0]\n",
    "            pvalue = result[1]\n",
    "            score_matrix[i, j] = score\n",
    "            pvalue_matrix[i, j] = pvalue\n",
    "\n",
    "    return score_matrix, pvalue_matrix"
   ]
  },
  {
   "cell_type": "code",
   "execution_count": null,
   "id": "a76ccff2",
   "metadata": {},
   "outputs": [],
   "source": [
    "score_matrix, pvalue_matrix = find_cointegrated_pairs(holder)"
   ]
  },
  {
   "cell_type": "code",
   "execution_count": null,
   "id": "2023a49f",
   "metadata": {},
   "outputs": [],
   "source": [
    "pairs = []\n",
    "\n",
    "for i in range(len(tickers)):\n",
    "    for j in range(i+1, len(tickers)):\n",
    "        \n",
    "        if pvalue_matrix[i, j] < 0.05:\n",
    "            pairs.append((tickers[i], tickers[j]))\n",
    "\n",
    "print (f'Found {len(pairs)} cointegrated pairs')"
   ]
  },
  {
   "cell_type": "code",
   "execution_count": null,
   "id": "eaed4e0d",
   "metadata": {},
   "outputs": [],
   "source": [
    "# Print the top 100 cointegrated pairs with the lowest p-values\n",
    "pairs.sort(key=lambda x: pvalue_matrix[tickers.index(x[0]), tickers.index(x[1])])\n",
    "\n",
    "for pair in pairs[:100]:\n",
    "    print(pair, pvalue_matrix[tickers.index(pair[0]), tickers.index(pair[1])])"
   ]
  }
 ],
 "metadata": {
  "kernelspec": {
   "display_name": "Python 3",
   "language": "python",
   "name": "python3"
  },
  "language_info": {
   "codemirror_mode": {
    "name": "ipython",
    "version": 3
   },
   "file_extension": ".py",
   "mimetype": "text/x-python",
   "name": "python",
   "nbconvert_exporter": "python",
   "pygments_lexer": "ipython3",
   "version": "3.8.8"
  }
 },
 "nbformat": 4,
 "nbformat_minor": 5
}
